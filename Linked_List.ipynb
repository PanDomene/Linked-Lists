{
 "cells": [
  {
   "cell_type": "code",
   "execution_count": 5,
   "id": "54c2a37f",
   "metadata": {},
   "outputs": [],
   "source": [
    "class Node:\n",
    "    \n",
    "    def __init__(self, value):\n",
    "        self.val = value\n",
    "        self.next = None"
   ]
  },
  {
   "cell_type": "code",
   "execution_count": 6,
   "id": "315ac3e3",
   "metadata": {},
   "outputs": [],
   "source": [
    "class LinkedList:\n",
    "    \n",
    "    def __init__(self, value):\n",
    "        self.head = Node(value)\n",
    "        self.tail = self.head\n",
    "        self.length = 1\n",
    "    \n",
    "    def append(self, value):\n",
    "        \"\"\"Augment the linked list with the given value as the tail.\"\"\"\n",
    "        new_node = Node(value)\n",
    "        self.tail.next = new_node\n",
    "        self.tail = new_node\n",
    "        self.length += 1\n",
    "        \n",
    "    def prepend(self, value):\n",
    "        \"\"\"Augment the linked list with the given value as the head.\"\"\"\n",
    "        new_node = Node(value)\n",
    "        new_node.next = self.head\n",
    "        self.head = new_node\n",
    "        \n",
    "        self.length += 1\n",
    "        \n",
    "    def print_list(self):\n",
    "        \"\"\"Print an array with all the values in the linked list\"\"\"\n",
    "        values = []\n",
    "        current_node = self.head\n",
    "        while current_node:\n",
    "            values += [current_node.val]\n",
    "            current_node = current_node.next\n",
    "        print(values)\n",
    "        \n",
    "    def find(self, index):\n",
    "        \"\"\"Find the value for the node at the given index\"\"\"\n",
    "        i = 0\n",
    "        current_node = self.head\n",
    "        while i < index:\n",
    "            current_node = current_node.next\n",
    "            i += 1\n",
    "        return current_node\n",
    "    \n",
    "    def insert(self, index, value):\n",
    "        \"\"\"Insert the value at the given index\"\"\"\n",
    "        if index >= self.length:\n",
    "            self.append(value)\n",
    "            return\n",
    "        if index == 0:\n",
    "            self.prepend(value)\n",
    "            return\n",
    "        new_node = Node(value)\n",
    "        current_node = self.find(index-1)\n",
    "        new_node.next = current_node.next\n",
    "        current_node.next = new_node\n",
    "        self.length += 1\n",
    "        \n",
    "    def remove(self, index):\n",
    "        \"\"\"Remove the node at the index given.\"\"\"\n",
    "        \n",
    "        head = self.find(index-1)\n",
    "        tail = head.next\n",
    "        head.next = tail.next\n",
    "        self.length -= 1"
   ]
  },
  {
   "cell_type": "code",
   "execution_count": 7,
   "id": "62aca8b9",
   "metadata": {
    "scrolled": true
   },
   "outputs": [
    {
     "name": "stdout",
     "output_type": "stream",
     "text": [
      "[1, 10, 5, 16]\n"
     ]
    }
   ],
   "source": [
    "LL = LinkedList(10)\n",
    "LL.append(5)\n",
    "LL.append(16)\n",
    "LL.prepend(1)\n",
    "LL.print_list()"
   ]
  },
  {
   "cell_type": "code",
   "execution_count": 8,
   "id": "543b10fe",
   "metadata": {},
   "outputs": [
    {
     "name": "stdout",
     "output_type": "stream",
     "text": [
      "[1, 3, 10, 5, 16]\n"
     ]
    }
   ],
   "source": [
    "LL.insert(1,3)\n",
    "LL.print_list()"
   ]
  },
  {
   "cell_type": "code",
   "execution_count": 9,
   "id": "52032083",
   "metadata": {},
   "outputs": [
    {
     "name": "stdout",
     "output_type": "stream",
     "text": [
      "[1, 3, 10, 20, 5, 16]\n"
     ]
    }
   ],
   "source": [
    "LL.insert(3, 20)\n",
    "LL.print_list()"
   ]
  },
  {
   "cell_type": "code",
   "execution_count": 10,
   "id": "4d6358bc",
   "metadata": {},
   "outputs": [
    {
     "name": "stdout",
     "output_type": "stream",
     "text": [
      "[4, 1, 3, 10, 20, 5, 16]\n"
     ]
    }
   ],
   "source": [
    "LL.insert(0,4)\n",
    "LL.print_list()"
   ]
  },
  {
   "cell_type": "code",
   "execution_count": 11,
   "id": "8a0127c2",
   "metadata": {},
   "outputs": [
    {
     "name": "stdout",
     "output_type": "stream",
     "text": [
      "[4, 1, 3, 10, 20, 5, 16, 100]\n"
     ]
    }
   ],
   "source": [
    "LL.insert(LL.length, 100)\n",
    "LL.print_list()"
   ]
  },
  {
   "cell_type": "code",
   "execution_count": 12,
   "id": "da67b891",
   "metadata": {},
   "outputs": [
    {
     "name": "stdout",
     "output_type": "stream",
     "text": [
      "[4, 1, 3, 10, 20, 5, 16, 100, 2]\n"
     ]
    }
   ],
   "source": [
    "LL.insert(500, 2)\n",
    "LL.print_list()"
   ]
  },
  {
   "cell_type": "code",
   "execution_count": 13,
   "id": "1ab5bab9",
   "metadata": {},
   "outputs": [
    {
     "data": {
      "text/plain": [
       "20"
      ]
     },
     "execution_count": 13,
     "metadata": {},
     "output_type": "execute_result"
    }
   ],
   "source": [
    "LL.find(4).val"
   ]
  },
  {
   "cell_type": "code",
   "execution_count": 14,
   "id": "76372566",
   "metadata": {},
   "outputs": [
    {
     "name": "stdout",
     "output_type": "stream",
     "text": [
      "[4, 1, 3, 10, 5, 16, 100, 2]\n"
     ]
    }
   ],
   "source": [
    "LL.remove(4)\n",
    "LL.print_list()"
   ]
  },
  {
   "cell_type": "markdown",
   "id": "6078d066-bdf0-4f29-85e1-7d2358c8fe38",
   "metadata": {},
   "source": [
    "!"
   ]
  },
  {
   "cell_type": "code",
   "execution_count": null,
   "id": "c1783e7d-dc50-408b-a352-06d092175308",
   "metadata": {},
   "outputs": [],
   "source": []
  }
 ],
 "metadata": {
  "kernelspec": {
   "display_name": "Python 3 (ipykernel)",
   "language": "python",
   "name": "python3"
  },
  "language_info": {
   "codemirror_mode": {
    "name": "ipython",
    "version": 3
   },
   "file_extension": ".py",
   "mimetype": "text/x-python",
   "name": "python",
   "nbconvert_exporter": "python",
   "pygments_lexer": "ipython3",
   "version": "3.9.7"
  }
 },
 "nbformat": 4,
 "nbformat_minor": 5
}
